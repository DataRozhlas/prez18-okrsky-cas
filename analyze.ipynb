{
 "cells": [
  {
   "cell_type": "code",
   "execution_count": 18,
   "metadata": {
    "collapsed": true
   },
   "outputs": [],
   "source": [
    "import pandas as pd\n",
    "import time\n",
    "import datetime\n",
    "import json"
   ]
  },
  {
   "cell_type": "code",
   "execution_count": 3,
   "metadata": {},
   "outputs": [],
   "source": [
    "data = pd.read_csv('./scratch/okrsky_temp.csv')"
   ]
  },
  {
   "cell_type": "code",
   "execution_count": 10,
   "metadata": {},
   "outputs": [],
   "source": [
    "def tstamp(tme):\n",
    "    return time.mktime(datetime.datetime.strptime(tme, '%Y-%m-%dT%H:%M:%S').timetuple())"
   ]
  },
  {
   "cell_type": "code",
   "execution_count": 12,
   "metadata": {},
   "outputs": [],
   "source": [
    "data['timestamp'] = data.DATUM_CAS_ZPRAC.apply(lambda x: tstamp(x))"
   ]
  },
  {
   "cell_type": "code",
   "execution_count": 16,
   "metadata": {},
   "outputs": [],
   "source": [
    "data['OKRS_ID'] = data.apply(lambda row: str(row.OBEC) + '_' + str(row.OKRSEK), axis=1)"
   ]
  },
  {
   "cell_type": "code",
   "execution_count": 24,
   "metadata": {},
   "outputs": [],
   "source": [
    "with open('./scratch/okrsky.json', 'r', encoding='utf-8') as f:\n",
    "    okrs = json.loads(f.read())"
   ]
  },
  {
   "cell_type": "code",
   "execution_count": 55,
   "metadata": {},
   "outputs": [],
   "source": [
    "data.set_index('OKRS_ID', inplace=True)"
   ]
  },
  {
   "cell_type": "code",
   "execution_count": 57,
   "metadata": {},
   "outputs": [],
   "source": [
    "d = data.to_dict(orient='index')"
   ]
  },
  {
   "cell_type": "code",
   "execution_count": 78,
   "metadata": {
    "scrolled": false
   },
   "outputs": [
    {
     "name": "stdout",
     "output_type": "stream",
     "text": [
      "warn\n",
      "warn\n",
      "warn\n",
      "warn\n"
     ]
    }
   ],
   "source": [
    "for ok in okrs['features']:\n",
    "    if not (ok['properties']['MomcKod'] is None):\n",
    "        okid = str(ok['properties']['MomcKod']) + '_' + str(ok['properties']['Cislo'])\n",
    "    else:\n",
    "        okid = str(ok['properties']['ObecKod']) + '_' + str(ok['properties']['Cislo'])\n",
    "    \n",
    "    try:\n",
    "        ok['properties'].update(d[okid])\n",
    "    except:\n",
    "        print('warn')"
   ]
  },
  {
   "cell_type": "code",
   "execution_count": 80,
   "metadata": {},
   "outputs": [],
   "source": [
    "with open('./scratch/okrs.json', 'w', encoding='utf-8') as f:\n",
    "    f.write(json.dumps(okrs))"
   ]
  }
 ],
 "metadata": {
  "kernelspec": {
   "display_name": "Python 3",
   "language": "python",
   "name": "python3"
  },
  "language_info": {
   "codemirror_mode": {
    "name": "ipython",
    "version": 3
   },
   "file_extension": ".py",
   "mimetype": "text/x-python",
   "name": "python",
   "nbconvert_exporter": "python",
   "pygments_lexer": "ipython3",
   "version": "3.6.3"
  }
 },
 "nbformat": 4,
 "nbformat_minor": 2
}
