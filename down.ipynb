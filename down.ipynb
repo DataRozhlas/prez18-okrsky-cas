{
 "cells": [
  {
   "cell_type": "code",
   "execution_count": 1,
   "metadata": {
    "collapsed": true
   },
   "outputs": [],
   "source": [
    "import requests\n",
    "import xml.etree.ElementTree as ET\n",
    "import pandas as pd"
   ]
  },
  {
   "cell_type": "code",
   "execution_count": 2,
   "metadata": {
    "collapsed": true
   },
   "outputs": [],
   "source": [
    "ns = '{http://www.volby.cz/prezident/}'"
   ]
  },
  {
   "cell_type": "code",
   "execution_count": null,
   "metadata": {
    "collapsed": true
   },
   "outputs": [],
   "source": [
    "data = pd.DataFrame()\n",
    "for i in range(1, 54):\n",
    "    r = requests.get('http://80.188.53.60/pls/prezmedia/vysledky_okrsky?kolo=&davka=' + str(i))\n",
    "    root = ET.fromstring(r.text)\n",
    "    for okr in root.findall(ns + 'OKRSEK'):\n",
    "        tmp = okr.attrib\n",
    "        tmp.update(okr.find(ns + 'UCAST_OKRSEK').attrib)\n",
    "        for kand in okr.findall(ns + 'HLASY_OKRSEK'):\n",
    "            tmp.update({'HLASY_0' + kand.get('PORADOVE_CISLO'): int(kand.get('HLASY'))})\n",
    "        data = data.append(tmp, ignore_index=True)"
   ]
  },
  {
   "cell_type": "code",
   "execution_count": 4,
   "metadata": {},
   "outputs": [
    {
     "data": {
      "text/plain": [
       "Index(['CIS_OBEC', 'CIS_OKRSEK', 'DATUM_CAS_ZPRAC', 'HLASY_02', 'HLASY_03',\n",
       "       'HLASY_05', 'HLASY_07', 'HLASY_08', 'HLASY_09', 'ODEVZDANE_OBALKY',\n",
       "       'OPAKOVANE', 'PLATNE_HLASY', 'PORADI_ZPRAC', 'VYDANE_OBALKY',\n",
       "       'ZAPSANI_VOLICI', 'HLASY_01', 'HLASY_04', 'HLASY_06'],\n",
       "      dtype='object')"
      ]
     },
     "execution_count": 4,
     "metadata": {},
     "output_type": "execute_result"
    }
   ],
   "source": [
    "data.columns"
   ]
  },
  {
   "cell_type": "code",
   "execution_count": 5,
   "metadata": {
    "collapsed": true
   },
   "outputs": [],
   "source": [
    "data.rename(columns={\n",
    "    'CIS_OBEC': 'OBEC', \n",
    "    'CIS_OKRSEK': 'OKRSEK', \n",
    "    'ODEVZDANE_OBALKY': 'ODEVZ_OBAL',\n",
    "    'PLATNE_HLASY': 'PL_HL_CELK', \n",
    "    'VYDANE_OBALKY': 'VYD_OBALKY',\n",
    "    'ZAPSANI_VOLICI': 'VOL_SEZNAM'\n",
    "}, inplace=True)"
   ]
  },
  {
   "cell_type": "code",
   "execution_count": null,
   "metadata": {
    "collapsed": true
   },
   "outputs": [],
   "source": [
    "data.fillna(0, inplace=True)"
   ]
  },
  {
   "cell_type": "code",
   "execution_count": null,
   "metadata": {
    "collapsed": true
   },
   "outputs": [],
   "source": [
    "for col in data.columns:\n",
    "    if col.startswith('HLASY_'):\n",
    "        data[col] = data[col].astype('int')"
   ]
  },
  {
   "cell_type": "code",
   "execution_count": 10,
   "metadata": {
    "collapsed": true
   },
   "outputs": [],
   "source": [
    "data.to_csv('./okrsky_temp.csv', encoding='utf-8', index=False)"
   ]
  }
 ],
 "metadata": {
  "kernelspec": {
   "display_name": "Python 3",
   "language": "python",
   "name": "python3"
  },
  "language_info": {
   "codemirror_mode": {
    "name": "ipython",
    "version": 3
   },
   "file_extension": ".py",
   "mimetype": "text/x-python",
   "name": "python",
   "nbconvert_exporter": "python",
   "pygments_lexer": "ipython3",
   "version": "3.6.3"
  }
 },
 "nbformat": 4,
 "nbformat_minor": 2
}
